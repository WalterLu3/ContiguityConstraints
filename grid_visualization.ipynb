{
 "cells": [
  {
   "cell_type": "code",
   "execution_count": 2,
   "metadata": {},
   "outputs": [],
   "source": [
    "import numpy as np\n",
    "import networkx as nx\n",
    "import matplotlib.patches as mpatches\n",
    "from matplotlib import colors\n",
    "import random\n",
    "import matplotlib.pyplot as plt\n",
    "from matplotlib.pyplot import figure\n",
    "import time\n",
    "import pickle as pk"
   ]
  },
  {
   "cell_type": "code",
   "execution_count": 57,
   "metadata": {},
   "outputs": [],
   "source": [
    "hess = None\n",
    "SHIR = None\n",
    "MCF = None\n",
    "with open(\"hessSol.pd\",\"rb\") as f:\n",
    "    hess = pk.load(f)\n",
    "\n",
    "with open(\"SHIRSol.pd\",\"rb\") as f:\n",
    "    SHIR = pk.load(f)\n",
    "    \n",
    "with open(\"MCFSol.pd\",\"rb\") as f:\n",
    "    MCF = pk.load(f)"
   ]
  },
  {
   "cell_type": "code",
   "execution_count": 20,
   "metadata": {},
   "outputs": [],
   "source": [
    "convertSHIR = {}\n",
    "flag = 1\n",
    "for i in set(SHIR.values()):\n",
    "    convertSHIR[i] = flag\n",
    "    flag += 1"
   ]
  },
  {
   "cell_type": "code",
   "execution_count": 21,
   "metadata": {},
   "outputs": [],
   "source": [
    "for key in SHIR:\n",
    "    SHIR[key] = convertSHIR[SHIR[key]]"
   ]
  },
  {
   "cell_type": "code",
   "execution_count": 23,
   "metadata": {},
   "outputs": [],
   "source": [
    "convertHess = {}\n",
    "flag = 1\n",
    "for i in set(hess.values()):\n",
    "    convertHess[i] = flag\n",
    "    flag += 1"
   ]
  },
  {
   "cell_type": "code",
   "execution_count": 24,
   "metadata": {},
   "outputs": [],
   "source": [
    "for key in hess:\n",
    "    hess[key] = convertHess[hess[key]]"
   ]
  },
  {
   "cell_type": "code",
   "execution_count": 59,
   "metadata": {},
   "outputs": [],
   "source": [
    "convertMCF = {}\n",
    "flag = 1\n",
    "for i in set(MCF.values()):\n",
    "    convertMCF[i] = flag\n",
    "    flag += 1\n",
    "for key in MCF:\n",
    "    MCF[key] = convertMCF[MCF[key]]"
   ]
  },
  {
   "cell_type": "code",
   "execution_count": 60,
   "metadata": {},
   "outputs": [
    {
     "data": {
      "text/plain": [
       "{'n_x3_y3': 1,\n",
       " 'n_x0_y5': 2,\n",
       " 'n_x0_y2': 3,\n",
       " 'n_x2_y1': 4,\n",
       " 'n_x4_y6': 5,\n",
       " 'n_x1_y6': 6}"
      ]
     },
     "execution_count": 60,
     "metadata": {},
     "output_type": "execute_result"
    }
   ],
   "source": [
    "convertMCF"
   ]
  },
  {
   "cell_type": "code",
   "execution_count": 27,
   "metadata": {},
   "outputs": [
    {
     "data": {
      "text/plain": [
       "{'n_x0_y0': 5,\n",
       " 'n_x0_y1': 4,\n",
       " 'n_x0_y2': 4,\n",
       " 'n_x0_y3': 4,\n",
       " 'n_x0_y4': 1,\n",
       " 'n_x0_y5': 3,\n",
       " 'n_x0_y6': 3,\n",
       " 'n_x0_y7': 3,\n",
       " 'n_x1_y0': 5,\n",
       " 'n_x1_y1': 5,\n",
       " 'n_x1_y2': 4,\n",
       " 'n_x1_y3': 4,\n",
       " 'n_x1_y4': 1,\n",
       " 'n_x1_y5': 1,\n",
       " 'n_x1_y6': 1,\n",
       " 'n_x1_y7': 3,\n",
       " 'n_x2_y0': 5,\n",
       " 'n_x2_y1': 5,\n",
       " 'n_x2_y2': 5,\n",
       " 'n_x2_y3': 2,\n",
       " 'n_x2_y4': 1,\n",
       " 'n_x2_y5': 1,\n",
       " 'n_x2_y6': 3,\n",
       " 'n_x2_y7': 3,\n",
       " 'n_x3_y0': 5,\n",
       " 'n_x3_y1': 5,\n",
       " 'n_x3_y2': 2,\n",
       " 'n_x3_y3': 2,\n",
       " 'n_x3_y4': 2,\n",
       " 'n_x3_y5': 6,\n",
       " 'n_x3_y6': 6,\n",
       " 'n_x3_y7': 6,\n",
       " 'n_x4_y0': 5,\n",
       " 'n_x4_y1': 5,\n",
       " 'n_x4_y2': 2,\n",
       " 'n_x4_y3': 2,\n",
       " 'n_x4_y4': 6,\n",
       " 'n_x4_y5': 6,\n",
       " 'n_x4_y6': 6,\n",
       " 'n_x4_y7': 6}"
      ]
     },
     "execution_count": 27,
     "metadata": {},
     "output_type": "execute_result"
    }
   ],
   "source": [
    "SHIR"
   ]
  },
  {
   "cell_type": "code",
   "execution_count": 49,
   "metadata": {},
   "outputs": [
    {
     "data": {
      "text/plain": [
       "{'n_x0_y0': 2,\n",
       " 'n_x0_y1': 2,\n",
       " 'n_x0_y2': 2,\n",
       " 'n_x0_y3': 2,\n",
       " 'n_x0_y4': 3,\n",
       " 'n_x0_y5': 6,\n",
       " 'n_x0_y6': 6,\n",
       " 'n_x0_y7': 6,\n",
       " 'n_x1_y0': 2,\n",
       " 'n_x1_y1': 2,\n",
       " 'n_x1_y2': 3,\n",
       " 'n_x1_y3': 3,\n",
       " 'n_x1_y4': 3,\n",
       " 'n_x1_y5': 3,\n",
       " 'n_x1_y6': 6,\n",
       " 'n_x1_y7': 4,\n",
       " 'n_x2_y0': 5,\n",
       " 'n_x2_y1': 5,\n",
       " 'n_x2_y2': 5,\n",
       " 'n_x2_y3': 1,\n",
       " 'n_x2_y4': 3,\n",
       " 'n_x2_y5': 1,\n",
       " 'n_x2_y6': 6,\n",
       " 'n_x2_y7': 6,\n",
       " 'n_x3_y0': 5,\n",
       " 'n_x3_y1': 5,\n",
       " 'n_x3_y2': 5,\n",
       " 'n_x3_y3': 1,\n",
       " 'n_x3_y4': 1,\n",
       " 'n_x3_y5': 1,\n",
       " 'n_x3_y6': 4,\n",
       " 'n_x3_y7': 4,\n",
       " 'n_x4_y0': 5,\n",
       " 'n_x4_y1': 5,\n",
       " 'n_x4_y2': 5,\n",
       " 'n_x4_y3': 1,\n",
       " 'n_x4_y4': 1,\n",
       " 'n_x4_y5': 1,\n",
       " 'n_x4_y6': 4,\n",
       " 'n_x4_y7': 4}"
      ]
     },
     "execution_count": 49,
     "metadata": {},
     "output_type": "execute_result"
    }
   ],
   "source": [
    "hess"
   ]
  },
  {
   "cell_type": "code",
   "execution_count": 50,
   "metadata": {},
   "outputs": [],
   "source": [
    "ASSIGN_W = 5\n",
    "ASSIGN_H = 8\n",
    "districtSet = [\"d1\",\"d2\",\"d3\",\"d4\", \"d5\",\"d6\"]\n",
    "assignDict = hess\n",
    "data_list = []\n",
    "for i in range(ASSIGN_W):\n",
    "    temp_list = []\n",
    "    for j in range(ASSIGN_H):\n",
    "        temp_list.append(assignDict[\"n_x{}_y{}\".format(i,j)])\n",
    "    data_list.append(temp_list)\n",
    "\n",
    "data_list.reverse()"
   ]
  },
  {
   "cell_type": "code",
   "execution_count": 51,
   "metadata": {},
   "outputs": [],
   "source": [
    "custom_color = []\n",
    "bounds = []\n",
    "coloar_patches = []\n",
    "district_idx = {}\n",
    "count = 1\n",
    "for i in districtSet:\n",
    "    custom_color.append((random.random(),random.random(),random.random()))\n",
    "    coloar_patches.append(mpatches.Patch(color = custom_color[-1],label = i))\n",
    "    bounds.append(count)\n",
    "    district_idx[i] = count\n",
    "    count += 1"
   ]
  },
  {
   "cell_type": "code",
   "execution_count": 52,
   "metadata": {},
   "outputs": [],
   "source": [
    "data = data_list\n",
    "cmap = colors.ListedColormap(custom_color)\n",
    "norm = colors.BoundaryNorm(bounds, cmap.N)\n",
    "norm = colors.BoundaryNorm(bounds+[bounds[-1]+1], cmap.N)"
   ]
  },
  {
   "cell_type": "code",
   "execution_count": 53,
   "metadata": {},
   "outputs": [
    {
     "data": {
      "image/png": "[encoded data removed]",
      "text/plain": [
       "<Figure size 720x720 with 1 Axes>"
      ]
     },
     "metadata": {
      "needs_background": "light"
     },
     "output_type": "display_data"
    }
   ],
   "source": [
    "fig, ax = plt.subplots(figsize=(10, 10))\n",
    "ax.imshow(data, cmap=cmap, norm=norm)\n",
    "\n",
    "# draw gridlines\n",
    "ax.grid(which='major', axis='both', linestyle='-', color='k', linewidth=2)\n",
    "ax.set_xticks(np.arange(0.5, ASSIGN_H+0.5, 1))\n",
    "ax.set_yticks(np.arange(0.5, ASSIGN_W+0.5, 1))\n",
    "#ax.set_xticklabels(H)\n",
    "#ax.set_yticklabels(W)\n",
    "ax.set_title('District Visualization')\n",
    "#plt.legend(handles=coloar_patches)\n",
    "plt.show()"
   ]
  },
  {
   "cell_type": "code",
   "execution_count": 55,
   "metadata": {},
   "outputs": [
    {
     "data": {
      "image/png": "[encoded data removed]",
      "text/plain": [
       "<Figure size 720x720 with 1 Axes>"
      ]
     },
     "metadata": {
      "needs_background": "light"
     },
     "output_type": "display_data"
    }
   ],
   "source": [
    "ASSIGN_W = 5\n",
    "ASSIGN_H = 8\n",
    "districtSet = [\"d1\",\"d2\",\"d3\",\"d4\", \"d5\",\"d6\"]\n",
    "assignDict = SHIR\n",
    "data_list = []\n",
    "for i in range(ASSIGN_W):\n",
    "    temp_list = []\n",
    "    for j in range(ASSIGN_H):\n",
    "        temp_list.append(assignDict[\"n_x{}_y{}\".format(i,j)])\n",
    "    data_list.append(temp_list)\n",
    "\n",
    "data_list.reverse()\n",
    "\n",
    "data = data_list\n",
    "cmap = colors.ListedColormap(custom_color)\n",
    "norm = colors.BoundaryNorm(bounds, cmap.N)\n",
    "norm = colors.BoundaryNorm(bounds+[bounds[-1]+1], cmap.N)\n",
    "\n",
    "fig, ax = plt.subplots(figsize=(10, 10))\n",
    "ax.imshow(data, cmap=cmap, norm=norm)\n",
    "\n",
    "# draw gridlines\n",
    "ax.grid(which='major', axis='both', linestyle='-', color='k', linewidth=2)\n",
    "ax.set_xticks(np.arange(0.5, ASSIGN_H+0.5, 1))\n",
    "ax.set_yticks(np.arange(0.5, ASSIGN_W+0.5, 1))\n",
    "#ax.set_xticklabels(H)\n",
    "#ax.set_yticklabels(W)\n",
    "ax.set_title('District Visualization')\n",
    "#plt.legend(handles=coloar_patches)\n",
    "plt.show()"
   ]
  },
  {
   "cell_type": "code",
   "execution_count": 61,
   "metadata": {},
   "outputs": [
    {
     "data": {
      "image/png": "[encoded data removed]",
      "text/plain": [
       "<Figure size 720x720 with 1 Axes>"
      ]
     },
     "metadata": {
      "needs_background": "light"
     },
     "output_type": "display_data"
    }
   ],
   "source": [
    "ASSIGN_W = 5\n",
    "ASSIGN_H = 8\n",
    "districtSet = [\"d1\",\"d2\",\"d3\",\"d4\", \"d5\",\"d6\"]\n",
    "assignDict = MCF\n",
    "data_list = []\n",
    "for i in range(ASSIGN_W):\n",
    "    temp_list = []\n",
    "    for j in range(ASSIGN_H):\n",
    "        temp_list.append(assignDict[\"n_x{}_y{}\".format(i,j)])\n",
    "    data_list.append(temp_list)\n",
    "\n",
    "data_list.reverse()\n",
    "\n",
    "data = data_list\n",
    "cmap = colors.ListedColormap(custom_color)\n",
    "norm = colors.BoundaryNorm(bounds, cmap.N)\n",
    "norm = colors.BoundaryNorm(bounds+[bounds[-1]+1], cmap.N)\n",
    "\n",
    "fig, ax = plt.subplots(figsize=(10, 10))\n",
    "ax.imshow(data, cmap=cmap, norm=norm)\n",
    "\n",
    "# draw gridlines\n",
    "ax.grid(which='major', axis='both', linestyle='-', color='k', linewidth=2)\n",
    "ax.set_xticks(np.arange(0.5, ASSIGN_H+0.5, 1))\n",
    "ax.set_yticks(np.arange(0.5, ASSIGN_W+0.5, 1))\n",
    "#ax.set_xticklabels(H)\n",
    "#ax.set_yticklabels(W)\n",
    "ax.set_title('District Visualization')\n",
    "#plt.legend(handles=coloar_patches)\n",
    "plt.show()"
   ]
  },
  {
   "cell_type": "code",
   "execution_count": null,
   "metadata": {},
   "outputs": [],
   "source": []
  }
 ],
 "metadata": {
  "kernelspec": {
   "display_name": "Python 3",
   "language": "python",
   "name": "python3"
  },
  "language_info": {
   "codemirror_mode": {
    "name": "ipython",
    "version": 3
   },
   "file_extension": ".py",
   "mimetype": "text/x-python",
   "name": "python",
   "nbconvert_exporter": "python",
   "pygments_lexer": "ipython3",
   "version": "3.8.3"
  }
 },
 "nbformat": 4,
 "nbformat_minor": 4
}
