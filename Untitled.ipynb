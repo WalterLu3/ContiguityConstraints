{
 "cells": [
  {
   "cell_type": "code",
   "execution_count": 1,
   "metadata": {},
   "outputs": [],
   "source": [
    "import numpy as np\n",
    "import networkx as nx\n",
    "import matplotlib.patches as mpatches\n",
    "from matplotlib import colors\n",
    "import random\n",
    "import matplotlib.pyplot as plt\n",
    "from matplotlib.pyplot import figure\n",
    "import time\n",
    "import pickle as pk"
   ]
  },
  {
   "cell_type": "code",
   "execution_count": 3,
   "metadata": {},
   "outputs": [],
   "source": [
    "hess = None\n",
    "SHIR = None\n",
    "with open(\"experiment_result/Hess_adj_5_8.pk_bound2_districtNum6.pk\",\"rb\") as f:\n",
    "    hess = pk.load(f)\n",
    "with open(\"experiment_result/SHIR_adj_5_8.pk_bound2_districtNum6.pk\",\"rb\") as f:\n",
    "    SHIR = pk.load(f)"
   ]
  },
  {
   "cell_type": "code",
   "execution_count": 20,
   "metadata": {},
   "outputs": [],
   "source": [
    "convertSHIR = {}\n",
    "flag = 1\n",
    "for i in set(SHIR.values()):\n",
    "    convertSHIR[i] = flag\n",
    "    flag += 1\n",
    "for key in SHIR:\n",
    "    SHIR[key] = convertSHIR[SHIR[key]]\n",
    "    \n",
    "convertHess = {}\n",
    "flag = 1\n",
    "for i in set(hess.values()):\n",
    "    convertHess[i] = flag\n",
    "    flag += 1\n",
    "for key in hess:\n",
    "    hess[key] = convertHess[hess[key]]"
   ]
  },
  {
   "cell_type": "code",
   "execution_count": 33,
   "metadata": {},
   "outputs": [],
   "source": [
    "custom_color = []\n",
    "bounds = []\n",
    "coloar_patches = []\n",
    "district_idx = {}\n",
    "count = 1\n",
    "for i in districtSet:\n",
    "    custom_color.append((random.random(),random.random(),random.random()))\n",
    "    coloar_patches.append(mpatches.Patch(color = custom_color[-1],label = i))\n",
    "    bounds.append(count)\n",
    "    district_idx[i] = count\n",
    "    count += 1"
   ]
  },
  {
   "cell_type": "code",
   "execution_count": 34,
   "metadata": {},
   "outputs": [
    {
     "data": {
      "image/png": "[encoded data removed]",
      "text/plain": [
       "<Figure size 720x720 with 1 Axes>"
      ]
     },
     "metadata": {
      "needs_background": "light"
     },
     "output_type": "display_data"
    }
   ],
   "source": [
    "ASSIGN_W = 5\n",
    "ASSIGN_H = 8\n",
    "districtSet = [\"d1\",\"d2\",\"d3\",\"d4\", \"d5\",\"d6\"]\n",
    "assignDict = SHIR\n",
    "data_list = []\n",
    "for i in range(ASSIGN_W):\n",
    "    temp_list = []\n",
    "    for j in range(ASSIGN_H):\n",
    "        temp_list.append(assignDict[\"n_x{}_y{}\".format(i,j)])\n",
    "    data_list.append(temp_list)\n",
    "\n",
    "data_list.reverse()\n",
    "\n",
    "\n",
    "\n",
    "\n",
    "data = data_list\n",
    "\n",
    "cmap = colors.ListedColormap(custom_color)\n",
    "norm = colors.BoundaryNorm(bounds, cmap.N)\n",
    "norm = colors.BoundaryNorm(bounds+[bounds[-1]+1], cmap.N)\n",
    "\n",
    "fig, ax = plt.subplots(figsize=(10, 10))\n",
    "ax.imshow(data, cmap=cmap, norm=norm)\n",
    "\n",
    "# draw gridlines\n",
    "ax.grid(which='major', axis='both', linestyle='-', color='k', linewidth=2)\n",
    "ax.set_xticks(np.arange(0.5, ASSIGN_H+0.5, 1))\n",
    "ax.set_yticks(np.arange(0.5, ASSIGN_W+0.5, 1))\n",
    "#ax.set_xticklabels(H)\n",
    "#ax.set_yticklabels(W)\n",
    "ax.set_title('The SHIR Model Visualization')\n",
    "#plt.legend(handles=coloar_patches)\n",
    "plt.show()"
   ]
  },
  {
   "cell_type": "code",
   "execution_count": 35,
   "metadata": {},
   "outputs": [
    {
     "data": {
      "image/png": "[encoded data removed]",
      "text/plain": [
       "<Figure size 720x720 with 1 Axes>"
      ]
     },
     "metadata": {
      "needs_background": "light"
     },
     "output_type": "display_data"
    }
   ],
   "source": [
    "ASSIGN_W = 5\n",
    "ASSIGN_H = 8\n",
    "districtSet = [\"d1\",\"d2\",\"d3\",\"d4\", \"d5\",\"d6\"]\n",
    "assignDict = hess\n",
    "data_list = []\n",
    "for i in range(ASSIGN_W):\n",
    "    temp_list = []\n",
    "    for j in range(ASSIGN_H):\n",
    "        temp_list.append(assignDict[\"n_x{}_y{}\".format(i,j)])\n",
    "    data_list.append(temp_list)\n",
    "\n",
    "data_list.reverse()\n",
    "\n",
    "\n",
    "\n",
    "\n",
    "data = data_list\n",
    "\n",
    "cmap = colors.ListedColormap(custom_color)\n",
    "norm = colors.BoundaryNorm(bounds, cmap.N)\n",
    "norm = colors.BoundaryNorm(bounds+[bounds[-1]+1], cmap.N)\n",
    "\n",
    "fig, ax = plt.subplots(figsize=(10, 10))\n",
    "ax.imshow(data, cmap=cmap, norm=norm)\n",
    "\n",
    "# draw gridlines\n",
    "ax.grid(which='major', axis='both', linestyle='-', color='k', linewidth=2)\n",
    "ax.set_xticks(np.arange(0.5, ASSIGN_H+0.5, 1))\n",
    "ax.set_yticks(np.arange(0.5, ASSIGN_W+0.5, 1))\n",
    "#ax.set_xticklabels(H)\n",
    "#ax.set_yticklabels(W)\n",
    "ax.set_title('The Hess Model Visualization')\n",
    "#plt.legend(handles=coloar_patches)\n",
    "plt.show()"
   ]
  },
  {
   "cell_type": "code",
   "execution_count": null,
   "metadata": {},
   "outputs": [],
   "source": []
  }
 ],
 "metadata": {
  "kernelspec": {
   "display_name": "Python 3",
   "language": "python",
   "name": "python3"
  },
  "language_info": {
   "codemirror_mode": {
    "name": "ipython",
    "version": 3
   },
   "file_extension": ".py",
   "mimetype": "text/x-python",
   "name": "python",
   "nbconvert_exporter": "python",
   "pygments_lexer": "ipython3",
   "version": "3.8.3"
  }
 },
 "nbformat": 4,
 "nbformat_minor": 4
}
