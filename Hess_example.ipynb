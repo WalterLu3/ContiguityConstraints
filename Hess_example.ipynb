{
 "cells": [
  {
   "cell_type": "code",
   "execution_count": 1,
   "metadata": {},
   "outputs": [],
   "source": [
    "import numpy as np\n",
    "import networkx as nx\n",
    "import matplotlib.patches as mpatches\n",
    "import matplotlib.pyplot as plt\n",
    "from matplotlib.pyplot import figure\n",
    "from matplotlib import colors\n",
    "import random\n",
    "import time\n",
    "import pickle as pk\n",
    "import gurobipy as gp\n",
    "from gurobipy import GRB"
   ]
  },
  {
   "cell_type": "markdown",
   "metadata": {},
   "source": [
    "This notebook contains a toy example of the HESS model on a synthetic dataset where the map is represented by a perfect rectangle."
   ]
  },
  {
   "cell_type": "code",
   "execution_count": 2,
   "metadata": {},
   "outputs": [],
   "source": [
    "def EuclieanDistance(A,B):\n",
    "    return ((A[0]-B[0])**2 + (A[1]-B[1])**2)**(1/2)"
   ]
  },
  {
   "cell_type": "markdown",
   "metadata": {},
   "source": [
    "# Input parameters"
   ]
  },
  {
   "cell_type": "code",
   "execution_count": 3,
   "metadata": {},
   "outputs": [],
   "source": [
    "# number of districts\n",
    "DISTRICT_NUM = 8\n",
    "# county width (rectangle width)\n",
    "ASSIGN_W = 8\n",
    "# county height (rectangle height)\n",
    "ASSIGN_H = 8\n",
    "# population bound\n",
    "popBound = 0.05\n",
    "\n"
   ]
  },
  {
   "cell_type": "markdown",
   "metadata": {},
   "source": [
    "# Generating Data"
   ]
  },
  {
   "cell_type": "code",
   "execution_count": 4,
   "metadata": {},
   "outputs": [],
   "source": [
    "# creat district set\n",
    "districtNum = DISTRICT_NUM\n",
    "district = []\n",
    "\n",
    "boundRate = popBound\n",
    "districtSet = []\n",
    "for idx in range(DISTRICT_NUM):\n",
    "    district.append(\"d\"+str(idx+1))\n",
    "    districtSet.append(\"d\"+str(idx+1))\n",
    "    \n",
    "# unit names\n",
    "nodes = []\n",
    "for idx in range(ASSIGN_W):\n",
    "    for jdx in range(ASSIGN_H):\n",
    "        nodes.append(\"n_x{}_y{}\".format(idx,jdx))\n",
    "        \n",
    "vertex = nodes\n",
    "# construct adjacency data\n",
    "adjList = []\n",
    "for i in range(ASSIGN_W):\n",
    "    for j in range(ASSIGN_H):\n",
    "        # right adj\n",
    "        if i + 1 < ASSIGN_W:\n",
    "            adjList.append([\"n_x{}_y{}\".format(i,j),\"n_x{}_y{}\".format(i+1,j)])\n",
    "        # up adj\n",
    "        if j + 1 < ASSIGN_H:\n",
    "            adjList.append([\"n_x{}_y{}\".format(i,j),\"n_x{}_y{}\".format(i,j+1)])\n",
    "            \n",
    "# construct node position\n",
    "position = {}\n",
    "population = {}\n",
    "totalPop = 0\n",
    "unitNumber = {} #used to count the units in it\n",
    "for idx in range(ASSIGN_W):\n",
    "    for jdx in range(ASSIGN_H):\n",
    "        position[\"n_x{}_y{}\".format(idx,jdx)] = (0.5+1*idx, 0.5+1*jdx)\n",
    "\n",
    "        population[\"n_x{}_y{}\".format(idx,jdx)] = random.randrange(10,300)\n",
    "            \n",
    "        totalPop += population[\"n_x{}_y{}\".format(idx,jdx)]\n",
    "        unitNumber[\"n_x{}_y{}\".format(idx,jdx)] = 1\n",
    "        \n",
    "interval = 2*(totalPop/DISTRICT_NUM)*popBound\n",
    "pos=position\n",
    "pop=population\n",
    "# construct arcs\n",
    "arcs = []\n",
    "for a in adjList:\n",
    "    arcs.append(tuple(a))\n",
    "    arcs.append((a[1],a[0]))"
   ]
  },
  {
   "cell_type": "code",
   "execution_count": 5,
   "metadata": {},
   "outputs": [],
   "source": [
    "# prepare some constants for Gurobi model\n",
    "\n",
    "# population bound\n",
    "popUpBound = (totalPop/districtNum) * (1 + boundRate)\n",
    "popLowerBound = (totalPop/districtNum) * (1 - boundRate)\n",
    "\n",
    "#\n",
    "w = {}\n",
    "for v1 in vertex:\n",
    "    for v2 in vertex:\n",
    "        w[v1,v2] = EuclieanDistance(pos[v1],pos[v2])"
   ]
  },
  {
   "cell_type": "markdown",
   "metadata": {},
   "source": [
    "# The Hess Model"
   ]
  },
  {
   "cell_type": "code",
   "execution_count": 6,
   "metadata": {},
   "outputs": [
    {
     "name": "stdout",
     "output_type": "stream",
     "text": [
      "Set parameter Username\n",
      "Academic license - for non-commercial use only - expires 2024-01-05\n",
      "Set parameter TimeLimit to value 1800\n",
      "Gurobi Optimizer version 10.0.0 build v10.0.0rc2 (mac64[rosetta2])\n",
      "\n",
      "CPU model: Apple M1 Pro\n",
      "Thread count: 8 physical cores, 8 logical processors, using up to 8 threads\n",
      "\n",
      "Optimize a model with 4289 rows, 4096 columns and 20416 nonzeros\n",
      "Model fingerprint: 0xcbb7cfd2\n",
      "Variable types: 0 continuous, 4096 integer (4096 binary)\n",
      "Coefficient statistics:\n",
      "  Matrix range     [1e+00, 1e+03]\n",
      "  Objective range  [1e+00, 1e+01]\n",
      "  Bounds range     [1e+00, 1e+00]\n",
      "  RHS range        [1e+00, 8e+00]\n",
      "Presolve removed 64 rows and 0 columns\n",
      "Presolve time: 0.04s\n",
      "Presolved: 4225 rows, 4096 columns, 20416 nonzeros\n",
      "Variable types: 0 continuous, 4096 integer (4096 binary)\n",
      "Found heuristic solution: objective 202.2928714\n",
      "\n",
      "Root relaxation: objective 6.922109e+01, 1268 iterations, 0.04 seconds (0.07 work units)\n",
      "\n",
      "    Nodes    |    Current Node    |     Objective Bounds      |     Work\n",
      " Expl Unexpl |  Obj  Depth IntInf | Incumbent    BestBd   Gap | It/Node Time\n",
      "\n",
      "     0     0   69.22109    0  212  202.29287   69.22109  65.8%     -    0s\n",
      "H    0     0                     182.7782887   69.22109  62.1%     -    0s\n",
      "H    0     0                      78.5804559   69.22109  11.9%     -    0s\n",
      "H    0     0                      74.6427567   69.22109  7.26%     -    0s\n",
      "     0     0   69.38874    0  224   74.64276   69.38874  7.04%     -    0s\n",
      "H    0     0                      72.8209023   69.38874  4.71%     -    0s\n",
      "     0     0   69.41747    0  270   72.82090   69.41747  4.67%     -    0s\n",
      "     0     0   69.41747    0  213   72.82090   69.41747  4.67%     -    0s\n",
      "H    0     0                      71.9924752   69.41747  3.58%     -    0s\n",
      "     0     0   69.41747    0  256   71.99248   69.41747  3.58%     -    0s\n",
      "     0     0   69.41747    0  254   71.99248   69.41747  3.58%     -    0s\n",
      "H    0     0                      71.5203392   69.41747  2.94%     -    0s\n",
      "     0     0   69.45794    0  287   71.52034   69.45794  2.88%     -    0s\n",
      "     0     0   69.45794    0  213   71.52034   69.45794  2.88%     -    0s\n",
      "     0     0   69.45794    0  245   71.52034   69.45794  2.88%     -    1s\n",
      "     0     0   69.45891    0  298   71.52034   69.45891  2.88%     -    1s\n",
      "H    0     0                      70.9990479   69.45891  2.17%     -    1s\n",
      "     0     0   69.46318    0  212   70.99905   69.46318  2.16%     -    1s\n",
      "     0     0   69.46318    0  213   70.99905   69.46318  2.16%     -    1s\n",
      "     0     0   69.46318    0  244   70.99905   69.46318  2.16%     -    1s\n",
      "     0     0   69.46318    0  283   70.99905   69.46318  2.16%     -    1s\n",
      "     0     0   69.51565    0  248   70.99905   69.51565  2.09%     -    1s\n",
      "     0     0   69.51786    0  251   70.99905   69.51786  2.09%     -    1s\n",
      "     0     0   69.51838    0  246   70.99905   69.51838  2.09%     -    1s\n",
      "     0     0   69.54994    0  270   70.99905   69.54994  2.04%     -    1s\n",
      "     0     0   69.64943    0  261   70.99905   69.64943  1.90%     -    1s\n",
      "     0     0   69.65216    0  261   70.99905   69.65216  1.90%     -    1s\n",
      "     0     2   69.65216    0  261   70.99905   69.65216  1.90%     -    1s\n",
      "H   99    84                      70.8274750   69.65216  1.66%  60.6    1s\n",
      "H  264   103                      70.8209023   69.79851  1.44%  46.5    1s\n",
      "*  336    97               8      69.9990479   69.79851  0.29%  44.3    2s\n",
      "\n",
      "Cutting planes:\n",
      "  Gomory: 4\n",
      "  Cover: 38\n",
      "  MIR: 9\n",
      "  StrongCG: 6\n",
      "  GUB cover: 7\n",
      "\n",
      "Explored 459 nodes (22867 simplex iterations) in 2.03 seconds (1.72 work units)\n",
      "Thread count was 8 (of 8 available processors)\n",
      "\n",
      "Solution count 10: 69.999 70.8209 70.8275 ... 182.778\n",
      "\n",
      "Optimal solution found (tolerance 1.00e-04)\n",
      "Best objective 6.999904788958e+01, best bound 6.999904788958e+01, gap 0.0000%\n"
     ]
    }
   ],
   "source": [
    "m = gp.Model('Hess')\n",
    "\n",
    "# declare assignment binary variable\n",
    "x = m.addVars(vertex,vertex, vtype=GRB.BINARY ,name=\"x\")\n",
    "\n",
    "#objective funciton (maximizing compactness)\n",
    "obj = gp.quicksum( w[i,j] * x[i,j]  \n",
    "                    for i in vertex for j in vertex )\n",
    "\n",
    "m.setObjective(obj,GRB.MINIMIZE)\n",
    "\n",
    "# add constraints\n",
    "\n",
    "# Each unit can only be assigned once\n",
    "m.addConstrs(\n",
    "    (gp.quicksum(x[i,j] for j in vertex )  == 1 for i in vertex), \"onlyOneAssign\")\n",
    "\n",
    "# Choose district centers\n",
    "m.addConstr(\n",
    "    (gp.quicksum(x[i,i] for i in vertex )  ==  districtNum), \"centerChoice\")\n",
    "\n",
    "# population bounds\n",
    "m.addConstrs(\n",
    "    (gp.quicksum( pop[i] * x[i,j] for i in vertex) <=  popUpBound * x[j,j] for j in vertex), \"popUp\")\n",
    "\n",
    "m.addConstrs(\n",
    "    (gp.quicksum( pop[i] * x[i,j] for i in vertex) >=  popLowerBound * x[j,j] for j in vertex), \"popLow\")\n",
    "\n",
    "# can only assigned to units that are chosen as district center\n",
    "m.addConstrs(\n",
    "    ( x[i,j] <= x[j,j] for i in vertex for j in vertex), \"assginLimit\")\n",
    "\n",
    "m.Params.timelimit = 1800.0\n",
    "\n",
    "m.optimize()"
   ]
  },
  {
   "cell_type": "markdown",
   "metadata": {},
   "source": [
    "# Visualization"
   ]
  },
  {
   "cell_type": "code",
   "execution_count": 7,
   "metadata": {},
   "outputs": [],
   "source": [
    "# read and format the solution\n",
    "HESSSol = {}\n",
    "for i in vertex:\n",
    "    for j in vertex:\n",
    "        if x[i,j].x >0.5:\n",
    "                HESSSol[i] = j\n",
    "                \n",
    "hess = HESSSol\n",
    "convertHess = {}\n",
    "flag = 1\n",
    "for i in set(hess.values()):\n",
    "    convertHess[i] = flag\n",
    "    flag += 1\n",
    "for key in hess:\n",
    "    hess[key] = convertHess[hess[key]]\n",
    "    \n",
    "assignDict = hess\n",
    "data_list = []\n",
    "for i in range(ASSIGN_W):\n",
    "    temp_list = []\n",
    "    for j in range(ASSIGN_H):\n",
    "        temp_list.append(assignDict[\"n_x{}_y{}\".format(i,j)])\n",
    "    data_list.append(temp_list)\n",
    "\n",
    "data_list.reverse()"
   ]
  },
  {
   "cell_type": "code",
   "execution_count": 8,
   "metadata": {},
   "outputs": [],
   "source": [
    "custom_color = []\n",
    "bounds = []\n",
    "coloar_patches = []\n",
    "district_idx = {}\n",
    "count = 1\n",
    "for i in districtSet:\n",
    "    custom_color.append((random.random(),random.random(),random.random()))\n",
    "    coloar_patches.append(mpatches.Patch(color = custom_color[-1],label = i))\n",
    "    bounds.append(count)\n",
    "    district_idx[i] = count\n",
    "    count += 1"
   ]
  },
  {
   "cell_type": "code",
   "execution_count": 9,
   "metadata": {},
   "outputs": [
    {
     "data": {
      "image/png": "[encoded data removed]",
      "text/plain": [
       "<Figure size 720x720 with 1 Axes>"
      ]
     },
     "metadata": {
      "needs_background": "light"
     },
     "output_type": "display_data"
    }
   ],
   "source": [
    "# plotting\n",
    "\n",
    "# choose color maps\n",
    "data = data_list\n",
    "cmap = colors.ListedColormap(custom_color)\n",
    "norm = colors.BoundaryNorm(bounds, cmap.N)\n",
    "norm = colors.BoundaryNorm(bounds+[bounds[-1]+1], cmap.N)\n",
    "\n",
    "fig, ax = plt.subplots(figsize=(10, 10))\n",
    "ax.imshow(data, cmap=cmap, norm=norm)\n",
    "\n",
    "# draw gridlines\n",
    "ax.grid(which='major', axis='both', linestyle='-', color='k', linewidth=2)\n",
    "ax.set_xticks(np.arange(0.5, ASSIGN_H+0.5, 1))\n",
    "ax.set_yticks(np.arange(0.5, ASSIGN_W+0.5, 1))\n",
    "#ax.set_xticklabels(H)\n",
    "#ax.set_yticklabels(W)\n",
    "ax.set_title('District Visualization')\n",
    "#plt.legend(handles=coloar_patches)\n",
    "plt.show()"
   ]
  },
  {
   "cell_type": "code",
   "execution_count": null,
   "metadata": {},
   "outputs": [],
   "source": []
  }
 ],
 "metadata": {
  "kernelspec": {
   "display_name": "Python 3",
   "language": "python",
   "name": "python3"
  },
  "language_info": {
   "codemirror_mode": {
    "name": "ipython",
    "version": 3
   },
   "file_extension": ".py",
   "mimetype": "text/x-python",
   "name": "python",
   "nbconvert_exporter": "python",
   "pygments_lexer": "ipython3",
   "version": "3.8.3"
  }
 },
 "nbformat": 4,
 "nbformat_minor": 4
}
