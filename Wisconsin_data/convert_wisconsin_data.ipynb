{
 "cells": [
  {
   "cell_type": "code",
   "execution_count": 24,
   "metadata": {},
   "outputs": [],
   "source": [
    "import pickle as pk\n",
    "import pandas as pd"
   ]
  },
  {
   "cell_type": "code",
   "execution_count": 46,
   "metadata": {},
   "outputs": [],
   "source": [
    "adj = pd.read_csv(\"adj_Wisconsin.csv\",header=None)\n",
    "pop = pd.read_csv(\"vote_Wisconsin.csv\",header=None)\n",
    "pos = pd.read_csv(\"coord_Wisconsin.csv\",header=None)"
   ]
  },
  {
   "cell_type": "code",
   "execution_count": 47,
   "metadata": {},
   "outputs": [],
   "source": [
    "adj = adj[adj[2]==1]\n",
    "adj = adj[[0,1]]\n",
    "\n",
    "adj_file = []\n",
    "\n",
    "for i in adj.values:\n",
    "    temp = []\n",
    "    temp.append(str(i[0]))\n",
    "    temp.append(str(i[1]))\n",
    "    adj_file.append(temp)"
   ]
  },
  {
   "cell_type": "code",
   "execution_count": 48,
   "metadata": {},
   "outputs": [],
   "source": [
    "pop_file = {}\n",
    "for i in set(pop[0]):\n",
    "    pop_file[str(i)] = 0\n",
    "\n",
    "for index,row in pop.iterrows():\n",
    "    pop_file[str(row[0])] += row[2]\n",
    "    \n"
   ]
  },
  {
   "cell_type": "code",
   "execution_count": 49,
   "metadata": {},
   "outputs": [],
   "source": [
    "pos_file = {}\n",
    "for index,row in pos.iterrows():\n",
    "    pos_file[str(int(row[0]))] = (row[1],row[2])"
   ]
  },
  {
   "cell_type": "code",
   "execution_count": 50,
   "metadata": {},
   "outputs": [],
   "source": [
    "with open(\"adj_wisconsin.pk\",\"wb\") as f:\n",
    "    pk.dump(adj_file,f)\n",
    "    \n",
    "with open(\"population_wisconsin.pk\",\"wb\") as f:\n",
    "    pk.dump(pop_file,f)\n",
    "    \n",
    "with open(\"position_wisconsin.pk\",\"wb\") as f:\n",
    "    pk.dump(pos_file,f)"
   ]
  },
  {
   "cell_type": "code",
   "execution_count": 51,
   "metadata": {},
   "outputs": [
    {
     "data": {
      "text/plain": [
       "{'55041': 4370.0,\n",
       " '55043': 22394.0,\n",
       " '55045': 17814.0,\n",
       " '55047': 8909.0,\n",
       " '55049': 11477.0,\n",
       " '55051': 3363.0,\n",
       " '55053': 8728.0,\n",
       " '55055': 39968.0,\n",
       " '55057': 11287.0,\n",
       " '55059': 71795.0,\n",
       " '55061': 10239.0,\n",
       " '55063': 58786.0,\n",
       " '55065': 7265.0,\n",
       " '55067': 9696.0,\n",
       " '55069': 13769.0,\n",
       " '55071': 37797.0,\n",
       " '55073': 65486.0,\n",
       " '55075': 19237.0,\n",
       " '55077': 7520.0,\n",
       " '55078': 1272.0,\n",
       " '55079': 415076.0,\n",
       " '55081': 18489.0,\n",
       " '55083': 19141.0,\n",
       " '55085': 19780.0,\n",
       " '55087': 87971.0,\n",
       " '55089': 50625.0,\n",
       " '55091': 3573.0,\n",
       " '55093': 19640.0,\n",
       " '55095': 21432.0,\n",
       " '55097': 35834.0,\n",
       " '55099': 7233.0,\n",
       " '55101': 89126.0,\n",
       " '55103': 7598.0,\n",
       " '55105': 70818.0,\n",
       " '55107': 6735.0,\n",
       " '55109': 43618.0,\n",
       " '55111': 29483.0,\n",
       " '55113': 7471.0,\n",
       " '55115': 18798.0,\n",
       " '55117': 55004.0,\n",
       " '55119': 8987.0,\n",
       " '55121': 13014.0,\n",
       " '55123': 13345.0,\n",
       " '55125': 12938.0,\n",
       " '55127': 47554.0,\n",
       " '55001': 9763.0,\n",
       " '55129': 8687.0,\n",
       " '55003': 7564.0,\n",
       " '55131': 72582.0,\n",
       " '55005': 21476.0,\n",
       " '55133': 221721.0,\n",
       " '55007': 9076.0,\n",
       " '55135': 24314.0,\n",
       " '55009': 120550.0,\n",
       " '55137': 11470.0,\n",
       " '55011': 6579.0,\n",
       " '55139': 80501.0,\n",
       " '55013': 8360.0,\n",
       " '55141': 35733.0,\n",
       " '55015': 24979.0,\n",
       " '55017': 29786.0,\n",
       " '55019': 12870.0,\n",
       " '55021': 27685.0,\n",
       " '55023': 7270.0,\n",
       " '55025': 288776.0,\n",
       " '55027': 40611.0,\n",
       " '55029': 16610.0,\n",
       " '55031': 20999.0,\n",
       " '55033': 20511.0,\n",
       " '55035': 50571.0,\n",
       " '55037': 2563.0,\n",
       " '55039': 48435.0}"
      ]
     },
     "execution_count": 51,
     "metadata": {},
     "output_type": "execute_result"
    }
   ],
   "source": [
    "pop_file"
   ]
  },
  {
   "cell_type": "code",
   "execution_count": null,
   "metadata": {},
   "outputs": [],
   "source": []
  }
 ],
 "metadata": {
  "kernelspec": {
   "display_name": "Python 3",
   "language": "python",
   "name": "python3"
  },
  "language_info": {
   "codemirror_mode": {
    "name": "ipython",
    "version": 3
   },
   "file_extension": ".py",
   "mimetype": "text/x-python",
   "name": "python",
   "nbconvert_exporter": "python",
   "pygments_lexer": "ipython3",
   "version": "3.8.3"
  }
 },
 "nbformat": 4,
 "nbformat_minor": 4
}
