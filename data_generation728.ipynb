{
 "cells": [
  {
   "cell_type": "code",
   "execution_count": 18,
   "metadata": {},
   "outputs": [],
   "source": [
    "import numpy as np\n",
    "import networkx as nx\n",
    "import matplotlib.patches as mpatches\n",
    "from matplotlib import colors\n",
    "import random\n",
    "import matplotlib.pyplot as plt\n",
    "from matplotlib.pyplot import figure\n",
    "import time\n",
    "import pickle as pk"
   ]
  },
  {
   "cell_type": "code",
   "execution_count": 19,
   "metadata": {},
   "outputs": [],
   "source": [
    "# district number\n",
    "DISTRICT_NUM = 8\n",
    "# county width\n",
    "ASSIGN_W = 5\n",
    "# county height\n",
    "ASSIGN_H = 8\n",
    "\n",
    "popBound = 0.05\n",
    "\n",
    "\n",
    "# creat district set\n",
    "district = []\n",
    "districtSet = []\n",
    "for idx in range(DISTRICT_NUM):\n",
    "    district.append(\"d\"+str(idx+1))\n",
    "    districtSet.append(\"d\"+str(idx+1))\n",
    "nodes = []\n",
    "for idx in range(ASSIGN_W):\n",
    "    for jdx in range(ASSIGN_H):\n",
    "        nodes.append(\"n_x{}_y{}\".format(idx,jdx))"
   ]
  },
  {
   "cell_type": "code",
   "execution_count": 20,
   "metadata": {},
   "outputs": [],
   "source": [
    "# construct adjacency data\n",
    "adjList = []\n",
    "for i in range(ASSIGN_W):\n",
    "    for j in range(ASSIGN_H):\n",
    "        # right adj\n",
    "        if i + 1 < ASSIGN_W:\n",
    "            adjList.append([\"n_x{}_y{}\".format(i,j),\"n_x{}_y{}\".format(i+1,j)])\n",
    "        # up adj\n",
    "        if j + 1 < ASSIGN_H:\n",
    "            adjList.append([\"n_x{}_y{}\".format(i,j),\"n_x{}_y{}\".format(i,j+1)])\n",
    "            \n",
    "# construct node position\n",
    "position = {}\n",
    "population = {}\n",
    "totalPop = 0\n",
    "unitNumber = {} #used to count the units in it\n",
    "for idx in range(ASSIGN_W):\n",
    "    for jdx in range(ASSIGN_H):\n",
    "        position[\"n_x{}_y{}\".format(idx,jdx)] = (0.5+1*idx, 0.5+1*jdx)\n",
    "\n",
    "        population[\"n_x{}_y{}\".format(idx,jdx)] = random.randrange(10,300)\n",
    "            \n",
    "        totalPop += population[\"n_x{}_y{}\".format(idx,jdx)]\n",
    "        unitNumber[\"n_x{}_y{}\".format(idx,jdx)] = 1\n",
    "        \n",
    "interval = 2*(totalPop/DISTRICT_NUM)*popBound\n",
    "        "
   ]
  },
  {
   "cell_type": "markdown",
   "metadata": {},
   "source": [
    "Construct initial Graph"
   ]
  },
  {
   "cell_type": "code",
   "execution_count": 21,
   "metadata": {},
   "outputs": [],
   "source": [
    "with open(\"adj_5_8.pk\",\"wb\") as f:\n",
    "    pk.dump(adjList,f)\n",
    "with open(\"population_5_8.pk\",\"wb\") as f:\n",
    "    pk.dump(population,f)\n",
    "with open(\"position_5_8.pk\",\"wb\") as f:\n",
    "    pk.dump(position,f)"
   ]
  },
  {
   "cell_type": "code",
   "execution_count": null,
   "metadata": {},
   "outputs": [],
   "source": []
  },
  {
   "cell_type": "code",
   "execution_count": 424,
   "metadata": {},
   "outputs": [],
   "source": [
    "def merge(G, nodeA, nodeB):\n",
    "     # Get all adjacent nodes of two nodes\n",
    "    assert (nodeA in G.nodes) and (nodeB in G.nodes), \"Input node(s) does not exist!\"\n",
    "    new_adj = []\n",
    "    new_adj += list(G[nodeA])\n",
    "    # check if node A and node B are adjacent\n",
    "    assert (nodeB in new_adj) , \"Input nodes are not adjacent!\"\n",
    "\n",
    "    new_adj += G[nodeB]\n",
    "    # Create the new node with combined name\n",
    "    name = str(nodeA) + '/' + str(nodeB)\n",
    "    # Add new edges\n",
    "    G.add_edges_from([(p, name) for p in new_adj])\n",
    "    # Remove old nodes and the edges related to old nodes will also be removed\n",
    "    G.remove_nodes_from([nodeA, nodeB])\n",
    "    \n",
    "    return name"
   ]
  },
  {
   "cell_type": "code",
   "execution_count": 425,
   "metadata": {},
   "outputs": [],
   "source": [
    "def EuclieanDistance(A,B):\n",
    "    return ((A[0]-B[0])**2 + (A[1]-B[1])**2)**(1/2)"
   ]
  },
  {
   "cell_type": "code",
   "execution_count": 426,
   "metadata": {
    "scrolled": true
   },
   "outputs": [
    {
     "data": {
      "text/plain": [
       "\"\\nG = nx.Graph()\\nG.add_edges_from(adjList)\\n# in order to make d districts, we need to run merge for n-d times\\noriginalNodeNum = len(G.nodes)\\nfor i in range(originalNodeNum-DISTRICT_NUM):\\n    # randomly choose one node\\n    currentNodeNum = originalNodeNum - i\\n    idx = random.randrange(0, currentNodeNum)\\n    nodeA = list(G.nodes)[idx]\\n    \\n    # find the nearest node\\n    nearest = None\\n    distance = np.inf\\n    for i in G[nodeA]:\\n        temp_distance = EuclieanDistance(position[nodeA],position[i])\\n        if temp_distance < distance:\\n            distance = temp_distance\\n            nearest = i\\n    \\n    # start merge\\n    newNode = merge(G, nodeA, nearest)\\n    # update information\\n    position[newNode] = sum([np.array(position[n]) for n in newNode.split('/')])/                         len(newNode.split('/'))\\n\""
      ]
     },
     "execution_count": 426,
     "metadata": {},
     "output_type": "execute_result"
    }
   ],
   "source": [
    "'''\n",
    "G = nx.Graph()\n",
    "G.add_edges_from(adjList)\n",
    "# in order to make d districts, we need to run merge for n-d times\n",
    "originalNodeNum = len(G.nodes)\n",
    "for i in range(originalNodeNum-DISTRICT_NUM):\n",
    "    # randomly choose one node\n",
    "    currentNodeNum = originalNodeNum - i\n",
    "    idx = random.randrange(0, currentNodeNum)\n",
    "    nodeA = list(G.nodes)[idx]\n",
    "    \n",
    "    # find the nearest node\n",
    "    nearest = None\n",
    "    distance = np.inf\n",
    "    for i in G[nodeA]:\n",
    "        temp_distance = EuclieanDistance(position[nodeA],position[i])\n",
    "        if temp_distance < distance:\n",
    "            distance = temp_distance\n",
    "            nearest = i\n",
    "    \n",
    "    # start merge\n",
    "    newNode = merge(G, nodeA, nearest)\n",
    "    # update information\n",
    "    position[newNode] = sum([np.array(position[n]) for n in newNode.split('/')])/ \\\n",
    "                        len(newNode.split('/'))\n",
    "'''  \n",
    "    "
   ]
  },
  {
   "cell_type": "code",
   "execution_count": 427,
   "metadata": {},
   "outputs": [],
   "source": [
    "\n",
    "G = nx.Graph()\n",
    "G.add_edges_from(adjList)\n",
    "# in order to make d districts, we need to run merge for n-d times\n",
    "originalNodeNum = len(G.nodes)\n",
    "for i in range(originalNodeNum-DISTRICT_NUM):\n",
    "    # randomly choose one node\n",
    "    currentNodeNum = originalNodeNum - i\n",
    "    idx = random.randrange(0, currentNodeNum)\n",
    "    nodeA = list(G.nodes)[idx]\n",
    "    #print(nodeA)\n",
    "    # find the nearest node\n",
    "    \n",
    "    centroidA = [0,0,0] #first two are coordinate, and the last one is number of merged nodes\n",
    "    \n",
    "    for j in nodeA.split(\"/\"):\n",
    "        centroidA[0] += position[j][0]\n",
    "        centroidA[1] += position[j][1]\n",
    "        centroidA[2] += 1\n",
    "        \n",
    "    centroidA[0] = centroidA[0]/centroidA[2]\n",
    "    centroidA[1] = centroidA[1]/centroidA[2]\n",
    "    \n",
    "    nearest = None\n",
    "    distance = np.inf\n",
    "    for i in G[nodeA]:\n",
    "        temp_distance = EuclieanDistance(centroidA,position[i])\n",
    "        if temp_distance < distance:\n",
    "            distance = temp_distance\n",
    "            nearest = i\n",
    "    \n",
    "    # start merge\n",
    "    newNode = merge(G, nodeA, nearest)\n",
    "    # update information\n",
    "    position[newNode] = sum([np.array(position[n]) for n in newNode.split('/')])/ \\\n",
    "                        len(newNode.split('/'))\n"
   ]
  },
  {
   "cell_type": "markdown",
   "metadata": {},
   "source": [
    "Start reassigning population"
   ]
  },
  {
   "cell_type": "code",
   "execution_count": 428,
   "metadata": {},
   "outputs": [],
   "source": [
    "# get initial assign information\n",
    "district = {}\n",
    "dNum = 1\n",
    "for n in G.nodes:\n",
    "    for i in n.split(\"/\"):\n",
    "        district[i] = dNum\n",
    "    dNum += 1"
   ]
  },
  {
   "cell_type": "code",
   "execution_count": 429,
   "metadata": {},
   "outputs": [],
   "source": [
    "GPop = nx.Graph()\n",
    "GPop.add_edges_from(adjList)\n",
    "nx.set_node_attributes(GPop,district,name = \"assign\")\n",
    "nx.set_node_attributes(GPop,population,name = \"population\")"
   ]
  },
  {
   "cell_type": "code",
   "execution_count": 430,
   "metadata": {},
   "outputs": [
    {
     "data": {
      "text/plain": [
       "{'assign': 5, 'population': 49}"
      ]
     },
     "execution_count": 430,
     "metadata": {},
     "output_type": "execute_result"
    }
   ],
   "source": [
    "GPop.nodes[\"n_x3_y0\"]"
   ]
  },
  {
   "cell_type": "code",
   "execution_count": 431,
   "metadata": {},
   "outputs": [],
   "source": [
    "def findAdj(GPop):\n",
    "    adjDistricts = []\n",
    "    adjNodes = []\n",
    "    for i in GPop.edges:\n",
    "        nodeADistrict = GPop.nodes[i[0]][\"assign\"]\n",
    "        nodeBDistrict = GPop.nodes[i[1]][\"assign\"]\n",
    "        if nodeADistrict != nodeBDistrict:\n",
    "            adjDistricts.append((nodeADistrict,nodeBDistrict))\n",
    "            adjNodes.append((i,(nodeADistrict,nodeBDistrict)))\n",
    "    return list(set(adjDistricts)), adjNodes"
   ]
  },
  {
   "cell_type": "code",
   "execution_count": 432,
   "metadata": {},
   "outputs": [],
   "source": [
    "def findPopulation(GPop):\n",
    "    popDistrict = {}\n",
    "    for i in range(1,DISTRICT_NUM+1):\n",
    "        total = 0\n",
    "        for n in GPop.nodes:\n",
    "            if GPop.nodes[n][\"assign\"] == i:\n",
    "                total += GPop.nodes[n][\"population\"]\n",
    "        popDistrict[i] = total\n",
    "    return popDistrict\n"
   ]
  },
  {
   "cell_type": "code",
   "execution_count": 433,
   "metadata": {},
   "outputs": [],
   "source": [
    "def findPosition(GPop):\n",
    "    positionDistrict = {}\n",
    "    for i in range(1,DISTRICT_NUM+1):\n",
    "        positionDistrict[i] = [0,0,0]\n",
    "    for i in GPop.nodes:\n",
    "        positionDistrict[GPop.nodes[i][\"assign\"]][0] +=  position[i][0]\n",
    "        positionDistrict[GPop.nodes[i][\"assign\"]][1] +=  position[i][1]\n",
    "        positionDistrict[GPop.nodes[i][\"assign\"]][2] +=  1\n",
    "    \n",
    "    for i in range(1,DISTRICT_NUM+1):\n",
    "        positionDistrict[i] = [positionDistrict[i][0]/positionDistrict[i][2], \\\n",
    "                               positionDistrict[i][1]/positionDistrict[i][2], \\\n",
    "                               positionDistrict[i][2]]\n",
    "    return positionDistrict"
   ]
  },
  {
   "cell_type": "code",
   "execution_count": 434,
   "metadata": {},
   "outputs": [],
   "source": [
    "def returnSecond(x):\n",
    "    return x[1]"
   ]
  },
  {
   "cell_type": "code",
   "execution_count": null,
   "metadata": {
    "scrolled": false
   },
   "outputs": [],
   "source": [
    "tStart = time.time()\n",
    "# start population adjustment\n",
    "lastInfeasible = None\n",
    "for i in range(1000):\n",
    "    adjDistricts, adjNodes= findAdj(GPop)\n",
    "    popDistrict = findPopulation(GPop)\n",
    "    posDistrict = findPosition(GPop)\n",
    "    \n",
    "    largestDiff = 0\n",
    "    largestAdj = None\n",
    "    for j in adjDistricts:\n",
    "        absDiff = abs(popDistrict[j[0]] - popDistrict[j[1]])\n",
    "        if absDiff > largestDiff:\n",
    "            largestDiff = absDiff\n",
    "            largestAdj = j\n",
    "    \n",
    "    sourceDistrict = None\n",
    "    destinationDistrict = None\n",
    "    \n",
    "    if popDistrict[largestAdj[0]] > popDistrict[largestAdj[1]]:\n",
    "        sourceDistrict = largestAdj[0]\n",
    "        destinationDistrict = largestAdj[1]\n",
    "    else:\n",
    "        sourceDistrict = largestAdj[1]\n",
    "        destinationDistrict = largestAdj[0]\n",
    "        \n",
    "    # get all the inner border points\n",
    "    sourceNodes = [\n",
    "        node\n",
    "        for node, data\n",
    "        in GPop.nodes(data=True)\n",
    "        if data.get(\"assign\") == sourceDistrict\n",
    "    ]\n",
    "    \n",
    "    borderPoints = []\n",
    "    for a in adjNodes:\n",
    "        if sourceDistrict in a[1] and destinationDistrict in a[1]:\n",
    "            for n in a[0]:\n",
    "                if n in sourceNodes:\n",
    "                    borderPoints.append(n)\n",
    "    # choose the one that maximize the compactness                \n",
    "    tempDist = []\n",
    "    for p in borderPoints:     \n",
    "        tempDist.append((p,\n",
    "                        EuclieanDistance(position[p],posDistrict[destinationDistrict]) - \\\n",
    "                        EuclieanDistance(position[p],posDistrict[sourceDistrict])))\n",
    "        \n",
    "    tempDist = sorted(tempDist,key = returnSecond, reverse=False)\n",
    "    \n",
    "    # check contiguity constraint\n",
    "    chosenNode = None\n",
    "    for i in tempDist:\n",
    "        removeNode = i[0]\n",
    "        subNodes = set(sourceNodes) - set([removeNode])\n",
    "        tempG = GPop.subgraph(subNodes)\n",
    "        if nx.is_connected(tempG):\n",
    "            chosenNode = removeNode\n",
    "            break\n",
    "            \n",
    "    if chosenNode == None:\n",
    "        print(\"No node is chosen!!!\")\n",
    "        \n",
    "    # reassign\n",
    "    GPop.nodes[chosenNode][\"assign\"] = destinationDistrict\n",
    "    \n",
    "tEnd = time.time()"
   ]
  },
  {
   "cell_type": "code",
   "execution_count": null,
   "metadata": {},
   "outputs": [],
   "source": []
  },
  {
   "cell_type": "code",
   "execution_count": null,
   "metadata": {},
   "outputs": [],
   "source": [
    "tempDist"
   ]
  },
  {
   "cell_type": "code",
   "execution_count": null,
   "metadata": {},
   "outputs": [],
   "source": [
    "assignDict = nx.get_node_attributes(GPop, \"assign\")\n",
    "data_list = []\n",
    "for i in range(ASSIGN_W):\n",
    "    temp_list = []\n",
    "    for j in range(ASSIGN_H):\n",
    "        temp_list.append(assignDict[\"n_x{}_y{}\".format(i,j)])\n",
    "    data_list.append(temp_list)\n",
    "\n",
    "data_list.reverse()"
   ]
  },
  {
   "cell_type": "code",
   "execution_count": null,
   "metadata": {},
   "outputs": [],
   "source": [
    "custom_color = []\n",
    "bounds = []\n",
    "coloar_patches = []\n",
    "district_idx = {}\n",
    "count = 1\n",
    "for i in districtSet:\n",
    "    custom_color.append((random.random(),random.random(),random.random()))\n",
    "    coloar_patches.append(mpatches.Patch(color = custom_color[-1],label = i))\n",
    "    bounds.append(count)\n",
    "    district_idx[i] = count\n",
    "    count += 1"
   ]
  },
  {
   "cell_type": "code",
   "execution_count": null,
   "metadata": {},
   "outputs": [],
   "source": [
    "W = []\n",
    "for i in range(ASSIGN_W):\n",
    "    W.append('W'+str(i+1))\n",
    "H = []\n",
    "for i in range(ASSIGN_H):\n",
    "    H.append('H'+str(i+1))"
   ]
  },
  {
   "cell_type": "code",
   "execution_count": null,
   "metadata": {},
   "outputs": [],
   "source": [
    "data = data_list\n",
    "cmap = colors.ListedColormap(custom_color)\n",
    "norm = colors.BoundaryNorm(bounds, cmap.N)"
   ]
  },
  {
   "cell_type": "code",
   "execution_count": null,
   "metadata": {},
   "outputs": [],
   "source": [
    "bounds"
   ]
  },
  {
   "cell_type": "code",
   "execution_count": null,
   "metadata": {},
   "outputs": [],
   "source": [
    "figure(figsize=(20, 20), dpi=80)"
   ]
  },
  {
   "cell_type": "code",
   "execution_count": null,
   "metadata": {},
   "outputs": [],
   "source": [
    "fig, ax = plt.subplots(figsize=(10, 10))\n",
    "ax.imshow(data, cmap=cmap, norm=norm)\n",
    "\n",
    "# draw gridlines\n",
    "ax.grid(which='major', axis='both', linestyle='-', color='k', linewidth=2)\n",
    "ax.set_xticks(np.arange(0.5, ASSIGN_W+0.5, 1))\n",
    "ax.set_yticks(np.arange(0.5, ASSIGN_H+0.5, 1))\n",
    "ax.set_xticklabels(W)\n",
    "ax.set_yticklabels(H)\n",
    "ax.set_title('District Visualization')\n",
    "#plt.legend(handles=coloar_patches)\n",
    "plt.show()"
   ]
  },
  {
   "cell_type": "code",
   "execution_count": null,
   "metadata": {},
   "outputs": [],
   "source": [
    "assignDict = district\n",
    "data_list = []\n",
    "for i in range(ASSIGN_W):\n",
    "    temp_list = []\n",
    "    for j in range(ASSIGN_H):\n",
    "        temp_list.append(assignDict[\"n_x{}_y{}\".format(i,j)])\n",
    "    data_list.append(temp_list)\n",
    "\n",
    "data_list.reverse()\n",
    "\n",
    "data = data_list\n",
    "fig, ax = plt.subplots(figsize=(10, 10))\n",
    "ax.imshow(data, cmap=cmap, norm=norm)\n",
    "\n",
    "# draw gridlines\n",
    "ax.grid(which='major', axis='both', linestyle='-', color='k', linewidth=2)\n",
    "ax.set_xticks(np.arange(0.5, ASSIGN_W+0.5, 1))\n",
    "ax.set_yticks(np.arange(0.5, ASSIGN_H+0.5, 1))\n",
    "ax.set_xticklabels(W)\n",
    "ax.set_yticklabels(H)\n",
    "ax.set_title('District Visualization')\n",
    "#plt.legend(handles=coloar_patches)\n",
    "plt.show()"
   ]
  },
  {
   "cell_type": "code",
   "execution_count": null,
   "metadata": {},
   "outputs": [],
   "source": []
  },
  {
   "cell_type": "code",
   "execution_count": null,
   "metadata": {},
   "outputs": [],
   "source": [
    "t2 = time.time()"
   ]
  },
  {
   "cell_type": "code",
   "execution_count": null,
   "metadata": {},
   "outputs": [],
   "source": []
  },
  {
   "cell_type": "code",
   "execution_count": null,
   "metadata": {},
   "outputs": [],
   "source": []
  }
 ],
 "metadata": {
  "kernelspec": {
   "display_name": "Python 3",
   "language": "python",
   "name": "python3"
  },
  "language_info": {
   "codemirror_mode": {
    "name": "ipython",
    "version": 3
   },
   "file_extension": ".py",
   "mimetype": "text/x-python",
   "name": "python",
   "nbconvert_exporter": "python",
   "pygments_lexer": "ipython3",
   "version": "3.8.3"
  }
 },
 "nbformat": 4,
 "nbformat_minor": 4
}
